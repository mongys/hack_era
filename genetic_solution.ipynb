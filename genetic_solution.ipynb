{
 "cells": [
  {
   "cell_type": "code",
   "execution_count": 70,
   "id": "943d7945",
   "metadata": {},
   "outputs": [
    {
     "name": "stdout",
     "output_type": "stream",
     "text": [
      "Requirement already satisfied: deap in c:\\users\\borze\\anaconda3\\lib\\site-packages (1.4.3)\n",
      "Requirement already satisfied: pandas in c:\\users\\borze\\anaconda3\\lib\\site-packages (2.2.2)\n",
      "Requirement already satisfied: numpy in c:\\users\\borze\\anaconda3\\lib\\site-packages (1.26.4)\n",
      "Requirement already satisfied: python-dateutil>=2.8.2 in c:\\users\\borze\\anaconda3\\lib\\site-packages (from pandas) (2.9.0.post0)\n",
      "Requirement already satisfied: pytz>=2020.1 in c:\\users\\borze\\anaconda3\\lib\\site-packages (from pandas) (2024.1)\n",
      "Requirement already satisfied: tzdata>=2022.7 in c:\\users\\borze\\anaconda3\\lib\\site-packages (from pandas) (2023.3)\n",
      "Requirement already satisfied: six>=1.5 in c:\\users\\borze\\anaconda3\\lib\\site-packages (from python-dateutil>=2.8.2->pandas) (1.16.0)\n"
     ]
    }
   ],
   "source": [
    "!pip install deap pandas numpy"
   ]
  },
  {
   "cell_type": "code",
   "execution_count": 71,
   "id": "fb9cb044",
   "metadata": {},
   "outputs": [],
   "source": [
    "import random\n",
    "import numpy as np\n",
    "import pandas as pd\n",
    "from deap import base, creator, tools, algorithms\n",
    "import json"
   ]
  },
  {
   "cell_type": "code",
   "execution_count": 72,
   "id": "8e75e8b4",
   "metadata": {},
   "outputs": [],
   "source": [
    "flows = pd.read_csv(\"flows_peak.csv\")\n",
    "with open(\"constraints.json\") as f:\n",
    "    constraints = json.load(f)"
   ]
  },
  {
   "cell_type": "code",
   "execution_count": 73,
   "id": "0642cce6",
   "metadata": {},
   "outputs": [],
   "source": [
    "# === Настройки ===\n",
    "NUM_INTERSECTIONS = 3\n",
    "TRAVEL_TIME = 30  # секунд между перекрёстками\n",
    "CYCLE_FIXED = 120\n",
    "GENE_SIZE = 3  # green_main, green_sec, offset\n",
    "CHROMOSOME_SIZE = NUM_INTERSECTIONS * GENE_SIZE"
   ]
  },
  {
   "cell_type": "code",
   "execution_count": 74,
   "id": "dbaa8edd",
   "metadata": {},
   "outputs": [],
   "source": [
    "# === Целевая функция с весом задержки от bus_share ===\n",
    "def fitness(individual):\n",
    "    total_delay = 0\n",
    "\n",
    "    for i in range(NUM_INTERSECTIONS):\n",
    "        idx = i * GENE_SIZE\n",
    "        green_main = individual[idx]\n",
    "        green_sec = individual[idx + 1]\n",
    "        offset = individual[idx + 2]\n",
    "\n",
    "        inter_id = i + 1\n",
    "        int_flows = flows[flows['intersection_id'] == inter_id]\n",
    "\n",
    "        for _, row in int_flows.iterrows():\n",
    "            is_main = row['approach'] in ['N', 'S']\n",
    "            flow = row['intensity_veh_per_hr']\n",
    "            bus_share = row['bus_share']\n",
    "            green = green_main if is_main else green_sec\n",
    "\n",
    "            # Безусловный приоритет автобусам (по всем направлениям)\n",
    "            bus_bonus = constraints[\"min_extra_green_sec\"]\n",
    "            effective_green = min(CYCLE_FIXED, green + bus_bonus)\n",
    "\n",
    "            # Весовая задержка: больший вес — если много автобусов\n",
    "            weight = 1 + 2 * bus_share\n",
    "            delay = (CYCLE_FIXED - effective_green) * flow * weight\n",
    "\n",
    "            total_delay += delay\n",
    "\n",
    "    # Пенальти за рассинхрон offset (зелёная волна)\n",
    "    offset_penalty = 0\n",
    "    for i in range(1, NUM_INTERSECTIONS):\n",
    "        prev = individual[(i - 1) * GENE_SIZE + 2]\n",
    "        curr = individual[i * GENE_SIZE + 2]\n",
    "        expected = prev + TRAVEL_TIME\n",
    "        offset_penalty += abs(curr - expected)\n",
    "\n",
    "    return total_delay + 1000 * offset_penalty,\n"
   ]
  },
  {
   "cell_type": "code",
   "execution_count": 75,
   "id": "1d621e3b",
   "metadata": {},
   "outputs": [],
   "source": [
    "# === Проверка ограничений ===\n",
    "def check_constraints(ind):\n",
    "    for i in range(NUM_INTERSECTIONS):\n",
    "        idx = i * GENE_SIZE\n",
    "        g1, g2, o = ind[idx:idx+3]\n",
    "        lost = 2 * constraints[\"lost_time_sec_per_phase\"]\n",
    "\n",
    "        if g1 < constraints[\"pedestrian_green_sec\"] or g2 < constraints[\"pedestrian_green_sec\"]:\n",
    "            return False\n",
    "        if g1 + g2 + lost > CYCLE_FIXED:\n",
    "            return False\n",
    "        if not (0 <= o <= CYCLE_FIXED):\n",
    "            return False\n",
    "    return True\n"
   ]
  },
  {
   "cell_type": "code",
   "execution_count": 76,
   "id": "55efe587",
   "metadata": {},
   "outputs": [
    {
     "name": "stderr",
     "output_type": "stream",
     "text": [
      "c:\\Users\\borze\\anaconda3\\Lib\\site-packages\\deap\\creator.py:185: RuntimeWarning: A class named 'FitnessMin' has already been created and it will be overwritten. Consider deleting previous creation of that class or rename it.\n",
      "  warnings.warn(\"A class named '{0}' has already been created and it \"\n",
      "c:\\Users\\borze\\anaconda3\\Lib\\site-packages\\deap\\creator.py:185: RuntimeWarning: A class named 'Individual' has already been created and it will be overwritten. Consider deleting previous creation of that class or rename it.\n",
      "  warnings.warn(\"A class named '{0}' has already been created and it \"\n"
     ]
    }
   ],
   "source": [
    "# === Инициализация GA ===\n",
    "creator.create(\"FitnessMin\", base.Fitness, weights=(-1.0,))\n",
    "creator.create(\"Individual\", list, fitness=creator.FitnessMin)\n",
    "\n",
    "toolbox = base.Toolbox()"
   ]
  },
  {
   "cell_type": "code",
   "execution_count": 77,
   "id": "7f19fb76",
   "metadata": {},
   "outputs": [],
   "source": [
    "def random_signal_fixed_cycle():\n",
    "    g1 = random.randint(constraints['min_green_sec'], 60)\n",
    "    g2 = random.randint(constraints['min_green_sec'], 60)\n",
    "    lost = 2 * constraints[\"lost_time_sec_per_phase\"]\n",
    "    while g1 + g2 + lost > CYCLE_FIXED:\n",
    "        g1 -= 1\n",
    "    offset = random.randint(0, CYCLE_FIXED)\n",
    "    return [g1, g2, offset]\n",
    "toolbox.register(\"individual\", tools.initIterate, creator.Individual, \n",
    "                 lambda: sum([random_signal_fixed_cycle() for _ in range(NUM_INTERSECTIONS)], []))\n",
    "toolbox.register(\"population\", tools.initRepeat, list, toolbox.individual)\n",
    "\n",
    "toolbox.register(\"evaluate\", fitness)\n",
    "toolbox.register(\"mate\", tools.cxBlend, alpha=0.4)\n",
    "toolbox.register(\"mutate\", tools.mutGaussian, mu=0, sigma=5, indpb=0.2)\n",
    "toolbox.register(\"select\", tools.selTournament, tournsize=3)"
   ]
  },
  {
   "cell_type": "code",
   "execution_count": 78,
   "id": "55eeddec",
   "metadata": {},
   "outputs": [],
   "source": [
    "def feasible(ind):\n",
    "    return check_constraints(ind)\n",
    "\n",
    "toolbox.decorate(\"evaluate\", tools.DeltaPenalty(feasible, 1e6))"
   ]
  },
  {
   "cell_type": "code",
   "execution_count": 79,
   "id": "b5e74b01",
   "metadata": {},
   "outputs": [],
   "source": [
    "# === Запуск GA ===\n",
    "def run_ga():\n",
    "    pop = toolbox.population(n=100)\n",
    "    hof = tools.HallOfFame(1)\n",
    "\n",
    "    stats = tools.Statistics(lambda ind: ind.fitness.values)\n",
    "    stats.register(\"avg\", np.mean)\n",
    "    stats.register(\"min\", np.min)\n",
    "\n",
    "    algorithms.eaSimple(pop, toolbox, cxpb=0.7, mutpb=0.2, ngen=50, \n",
    "                        stats=stats, halloffame=hof, verbose=True)\n",
    "\n",
    "    best = hof[0]\n",
    "    print(\"\\n=== ЛУЧШЕЕ РЕШЕНИЕ (ЦИКЛ 120 СЕК) ===\")\n",
    "    for i in range(NUM_INTERSECTIONS):\n",
    "        idx = i * GENE_SIZE\n",
    "        g1, g2, o = best[idx:idx+3]\n",
    "        print(f\"Перекрёсток {i+1}: цикл=120, главная={g1:.0f}, второстепенная={g2:.0f}, offset={o:.0f}\")\n",
    "    print(\"Оценка:\", fitness(best)[0])"
   ]
  },
  {
   "cell_type": "code",
   "execution_count": 80,
   "id": "89fbb480",
   "metadata": {},
   "outputs": [
    {
     "name": "stdout",
     "output_type": "stream",
     "text": [
      "gen\tnevals\tavg   \tmin   \n",
      "0  \t100   \t845729\t676885\n",
      "1  \t75    \t832886\t677960\n",
      "2  \t68    \t813700\t658984\n",
      "3  \t73    \t791067\t609559\n",
      "4  \t82    \t756896\t609559\n",
      "5  \t79    \t754162\t604815\n",
      "6  \t70    \t758750\t604815\n",
      "7  \t71    \t711368\t581391\n",
      "8  \t75    \t719190\t582901\n",
      "9  \t76    \t684724\t582901\n",
      "10 \t81    \t663757\t567954\n",
      "11 \t75    \t686894\t567954\n",
      "12 \t85    \t690463\t563575\n",
      "13 \t55    \t665296\t555868\n",
      "14 \t70    \t638372\t548273\n",
      "15 \t75    \t663635\t539126\n",
      "16 \t73    \t660861\t539126\n",
      "17 \t86    \t641145\t539126\n",
      "18 \t82    \t619100\t539126\n",
      "19 \t73    \t635877\t540963\n",
      "20 \t72    \t603352\t536174\n",
      "21 \t71    \t595732\t534864\n",
      "22 \t64    \t602437\t533455\n",
      "23 \t59    \t592052\t533827\n",
      "24 \t71    \t608549\t529787\n",
      "25 \t74    \t598199\t529127\n",
      "26 \t60    \t578212\t523025\n",
      "27 \t74    \t604570\t525365\n",
      "28 \t78    \t645598\t525282\n",
      "29 \t74    \t631195\t524358\n",
      "30 \t74    \t601167\t524358\n",
      "31 \t69    \t585879\t523165\n",
      "32 \t75    \t584570\t523165\n",
      "33 \t75    \t588815\t523134\n",
      "34 \t84    \t607090\t521645\n",
      "35 \t69    \t615287\t520559\n",
      "36 \t89    \t624896\t520725\n",
      "37 \t69    \t613866\t520725\n",
      "38 \t75    \t599498\t520048\n",
      "39 \t75    \t636942\t520324\n",
      "40 \t86    \t584930\t519177\n",
      "41 \t74    \t627031\t519177\n",
      "42 \t75    \t674529\t519059\n",
      "43 \t74    \t631585\t519220\n",
      "44 \t72    \t588908\t518883\n",
      "45 \t72    \t563500\t518883\n",
      "46 \t77    \t635531\t518734\n",
      "47 \t72    \t597390\t518609\n",
      "48 \t89    \t592696\t518245\n",
      "49 \t74    \t630737\t518245\n",
      "50 \t76    \t625956\t517932\n",
      "\n",
      "=== ЛУЧШЕЕ РЕШЕНИЕ (ЦИКЛ 120 СЕК) ===\n",
      "Перекрёсток 1: цикл=120, главная=77, второстепенная=35, offset=35\n",
      "Перекрёсток 2: цикл=120, главная=66, второстепенная=46, offset=65\n",
      "Перекрёсток 3: цикл=120, главная=64, второстепенная=48, offset=96\n",
      "Оценка: 517932.0763563104\n"
     ]
    }
   ],
   "source": [
    "if __name__ == \"__main__\":\n",
    "    run_ga()"
   ]
  },
  {
   "cell_type": "code",
   "execution_count": 81,
   "id": "a7233a01",
   "metadata": {},
   "outputs": [],
   "source": [
    "# === Входные данные ===\n",
    "flows = pd.read_csv(\"flows_peak.csv\")\n",
    "signals = pd.read_csv(\"signals_current.csv\")\n",
    "\n",
    "with open(\"constraints.json\") as f:\n",
    "    constraints = json.load(f)\n",
    "\n",
    "total_delay = 0\n"
   ]
  },
  {
   "cell_type": "code",
   "execution_count": 82,
   "id": "d22cad1e",
   "metadata": {},
   "outputs": [
    {
     "name": "stdout",
     "output_type": "stream",
     "text": [
      "💡 Общая задержка ДО оптимизации: 690500.00\n"
     ]
    }
   ],
   "source": [
    "for _, row in flows.iterrows():\n",
    "    inter_id = row['intersection_id']\n",
    "    approach = row['approach']\n",
    "    flow = row['intensity_veh_per_hr']\n",
    "    bus_share = row['bus_share']\n",
    "\n",
    "    sig = signals[signals['intersection_id'] == inter_id].iloc[0]\n",
    "\n",
    "    cycle = sig['cycle_sec']\n",
    "    green_main = sig['green_main_sec']\n",
    "    green_sec = sig['green_secondary_sec']\n",
    "\n",
    "    # Направление\n",
    "    is_main = approach in ['N', 'S']\n",
    "    green = green_main if is_main else green_sec\n",
    "\n",
    "    # Приоритет автобусов\n",
    "    bus_bonus = constraints[\"min_extra_green_sec\"]\n",
    "    effective_green = min(cycle, green + bus_bonus)\n",
    "\n",
    "    delay = (cycle - effective_green) * flow\n",
    "    total_delay += delay\n",
    "\n",
    "print(f\"💡 Общая задержка ДО оптимизации: {total_delay:.2f}\")\n"
   ]
  }
 ],
 "metadata": {
  "kernelspec": {
   "display_name": "base",
   "language": "python",
   "name": "python3"
  },
  "language_info": {
   "codemirror_mode": {
    "name": "ipython",
    "version": 3
   },
   "file_extension": ".py",
   "mimetype": "text/x-python",
   "name": "python",
   "nbconvert_exporter": "python",
   "pygments_lexer": "ipython3",
   "version": "3.12.7"
  }
 },
 "nbformat": 4,
 "nbformat_minor": 5
}
