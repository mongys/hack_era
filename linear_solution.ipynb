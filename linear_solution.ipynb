{
 "cells": [
  {
   "cell_type": "code",
   "execution_count": 1,
   "id": "44bf1d03",
   "metadata": {},
   "outputs": [],
   "source": [
    "import numpy as np\n",
    "import pandas as pd\n",
    "import random\n",
    "import matplotlib.pyplot as plt"
   ]
  },
  {
   "cell_type": "code",
   "execution_count": 12,
   "id": "14749425",
   "metadata": {},
   "outputs": [
    {
     "name": "stdout",
     "output_type": "stream",
     "text": [
      "Collecting pulp\n",
      "  Downloading pulp-3.1.1-py3-none-any.whl.metadata (1.3 kB)\n",
      "Downloading pulp-3.1.1-py3-none-any.whl (16.4 MB)\n",
      "   ---------------------------------------- 0.0/16.4 MB ? eta -:--:--\n",
      "    --------------------------------------- 0.3/16.4 MB ? eta -:--:--\n",
      "   - -------------------------------------- 0.8/16.4 MB 2.4 MB/s eta 0:00:07\n",
      "   --- ------------------------------------ 1.3/16.4 MB 2.5 MB/s eta 0:00:07\n",
      "   ----- ---------------------------------- 2.1/16.4 MB 2.9 MB/s eta 0:00:05\n",
      "   ------ --------------------------------- 2.6/16.4 MB 2.9 MB/s eta 0:00:05\n",
      "   ------- -------------------------------- 3.1/16.4 MB 2.8 MB/s eta 0:00:05\n",
      "   --------- ------------------------------ 3.9/16.4 MB 3.0 MB/s eta 0:00:05\n",
      "   ----------- ---------------------------- 4.7/16.4 MB 2.9 MB/s eta 0:00:04\n",
      "   ------------- -------------------------- 5.5/16.4 MB 3.0 MB/s eta 0:00:04\n",
      "   ---------------- ----------------------- 6.6/16.4 MB 3.3 MB/s eta 0:00:04\n",
      "   ----------------- ---------------------- 7.3/16.4 MB 3.3 MB/s eta 0:00:03\n",
      "   -------------------- ------------------- 8.4/16.4 MB 3.5 MB/s eta 0:00:03\n",
      "   ---------------------- ----------------- 9.2/16.4 MB 3.5 MB/s eta 0:00:03\n",
      "   ------------------------ --------------- 10.2/16.4 MB 3.6 MB/s eta 0:00:02\n",
      "   --------------------------- ------------ 11.3/16.4 MB 3.7 MB/s eta 0:00:02\n",
      "   ----------------------------- ---------- 12.1/16.4 MB 3.8 MB/s eta 0:00:02\n",
      "   ------------------------------- -------- 12.8/16.4 MB 3.8 MB/s eta 0:00:01\n",
      "   --------------------------------- ------ 13.9/16.4 MB 3.8 MB/s eta 0:00:01\n",
      "   ----------------------------------- ---- 14.7/16.4 MB 3.9 MB/s eta 0:00:01\n",
      "   ---------------------------------------  16.0/16.4 MB 3.9 MB/s eta 0:00:01\n",
      "   ---------------------------------------- 16.4/16.4 MB 3.9 MB/s eta 0:00:00\n",
      "Installing collected packages: pulp\n",
      "Successfully installed pulp-3.1.1\n"
     ]
    },
    {
     "name": "stderr",
     "output_type": "stream",
     "text": [
      "ERROR: Could not find a version that satisfies the requirement json (from versions: none)\n",
      "ERROR: No matching distribution found for json\n"
     ]
    }
   ],
   "source": [
    "!pip install pulp\n",
    "!pip install json"
   ]
  },
  {
   "cell_type": "code",
   "execution_count": 13,
   "id": "b6d215a1",
   "metadata": {},
   "outputs": [],
   "source": [
    "import pandas as pd\n",
    "import pulp\n",
    "import json\n"
   ]
  },
  {
   "cell_type": "code",
   "execution_count": 15,
   "id": "be767fea",
   "metadata": {},
   "outputs": [],
   "source": [
    "flows = pd.read_csv(\"flows_peak.csv\")\n",
    "signals = pd.read_csv(\"signals_current.csv\")\n",
    "with open(\"constraints.json\") as f:\n",
    "    constraints = json.load(f)\n"
   ]
  },
  {
   "cell_type": "code",
   "execution_count": 16,
   "id": "d0ae20bd",
   "metadata": {
    "scrolled": true
   },
   "outputs": [],
   "source": [
    "model = pulp.LpProblem(\"TrafficSignalOptimization\", pulp.LpMinimize)\n",
    "\n",
    "intersections = flows['intersection_id'].unique()\n",
    "\n",
    "# Переменные: длина цикла и фазы\n",
    "cycle = {i: pulp.LpVariable(f\"cycle_{i}\", constraints['min_cycle_sec'], constraints['max_cycle_sec'], cat='Continuous')\n",
    "         for i in intersections}\n",
    "green_main = {i: pulp.LpVariable(f\"green_main_{i}\", constraints['min_green_sec'], cycle[i], cat='Continuous')\n",
    "              for i in intersections}\n",
    "green_sec = {i: pulp.LpVariable(f\"green_sec_{i}\", constraints['min_green_sec'], cycle[i], cat='Continuous')\n",
    "             for i in intersections}\n",
    "\n",
    "# Оффсет начала цикла (координация)\n",
    "offset = {i: pulp.LpVariable(f\"offset_{i}\", 0, cycle[i], cat='Continuous')\n",
    "          for i in intersections}\n"
   ]
  },
  {
   "cell_type": "code",
   "execution_count": 17,
   "id": "dae9f51d",
   "metadata": {},
   "outputs": [],
   "source": [
    "delay_terms = []\n",
    "for _, row in flows.iterrows():\n",
    "    i = row['intersection_id']\n",
    "    flow = row['intensity_veh_per_hr']\n",
    "    bus_share = row['bus_share']\n",
    "    \n",
    "    # Приоритет автобусов: добавка к зелёному (перекрёсток 2, направление N-S)\n",
    "    bus_bonus = constraints['min_extra_green_sec'] if i == 2 and constraints.get(\"priority_direction\") == \"NS\" else 0\n",
    "\n",
    "    # Простая модель: чем меньше зелёный — тем больше задержка\n",
    "    green_time = green_main[i] if row['approach'] in ['N', 'S'] else green_sec[i]\n",
    "    delay = (cycle[i] - green_time - bus_bonus) * flow\n",
    "\n",
    "    delay_terms.append(delay)\n",
    "\n",
    "model += pulp.lpSum(delay_terms)\n"
   ]
  },
  {
   "cell_type": "code",
   "execution_count": 18,
   "id": "42f7717e",
   "metadata": {},
   "outputs": [],
   "source": [
    "# Пешеходы\n",
    "for i in intersections:\n",
    "    model += green_main[i] >= constraints['pedestrian_green_sec']\n",
    "    model += green_sec[i] >= constraints['pedestrian_green_sec']\n",
    "\n",
    "# Оффсет: синхронизация зелёной волны вдоль главной оси\n",
    "# Предположим расстояние 300 м между узлами, скорость 36 км/ч => 30 сек проезд\n",
    "travel_time = 30  # секунд между перекрёстками\n",
    "\n",
    "model += offset[2] == offset[1] + travel_time\n",
    "model += offset[3] == offset[2] + travel_time\n",
    "\n",
    "# Координация по главной оси (N-S)\n",
    "# Зелёный стартует на всех примерно в одно и то же \"движущееся окно\"\n",
    "for i in [1, 2, 3]:\n",
    "    model += offset[i] + green_main[i] <= cycle[i]\n"
   ]
  },
  {
   "cell_type": "code",
   "execution_count": 19,
   "id": "7e0da2b9",
   "metadata": {},
   "outputs": [
    {
     "name": "stdout",
     "output_type": "stream",
     "text": [
      "Перекрёсток 1: цикл = 60.0 сек, главная фаза = 15.0, второстепенная = 15.0, offset = 0.0\n",
      "Перекрёсток 2: цикл = 60.0 сек, главная фаза = 15.0, второстепенная = 15.0, offset = 0.0\n",
      "Перекрёсток 3: цикл = 60.0 сек, главная фаза = 15.0, второстепенная = 15.0, offset = 0.0\n"
     ]
    }
   ],
   "source": [
    "solver = pulp.PULP_CBC_CMD(msg=1)\n",
    "model.solve(solver)\n",
    "\n",
    "for i in intersections:\n",
    "    print(f\"Перекрёсток {i}: цикл = {cycle[i].value():.1f} сек, главная фаза = {green_main[i].value():.1f}, второстепенная = {green_sec[i].value():.1f}, offset = {offset[i].value():.1f}\")\n"
   ]
  }
 ],
 "metadata": {
  "kernelspec": {
   "display_name": "base",
   "language": "python",
   "name": "python3"
  },
  "language_info": {
   "codemirror_mode": {
    "name": "ipython",
    "version": 3
   },
   "file_extension": ".py",
   "mimetype": "text/x-python",
   "name": "python",
   "nbconvert_exporter": "python",
   "pygments_lexer": "ipython3",
   "version": "3.12.7"
  }
 },
 "nbformat": 4,
 "nbformat_minor": 5
}
