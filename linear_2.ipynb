{
 "cells": [
  {
   "cell_type": "code",
   "execution_count": 1,
   "id": "05952c81",
   "metadata": {},
   "outputs": [
    {
     "name": "stdout",
     "output_type": "stream",
     "text": [
      "Status: Optimal\n",
      "Перекрёсток 1: Главная 97 сек, Второстепенная 15 сек\n",
      "Перекрёсток 2: Главная 97 сек, Второстепенная 15 сек\n",
      "Перекрёсток 3: Главная 97 сек, Второстепенная 15 сек\n",
      "Суммарная задержка: 449,333.00 машино-секунд\n"
     ]
    }
   ],
   "source": [
    "import pandas as pd\n",
    "import json\n",
    "import pulp\n",
    "\n",
    "# === Данные ===\n",
    "signals_df = pd.read_csv(\"signals_current.csv\")\n",
    "flows_df = pd.read_csv(\"flows_peak.csv\")\n",
    "with open(\"constraints.json\") as f:\n",
    "    constraints = json.load(f)\n",
    "\n",
    "NUM_INTERSECTIONS = signals_df.shape[0]\n",
    "lost_time = 2 * constraints[\"lost_time_sec_per_phase\"]\n",
    "\n",
    "# === Модель ===\n",
    "model = pulp.LpProblem(\"TrafficLightOptimization\", pulp.LpMinimize)\n",
    "\n",
    "# === Переменные для каждого перекрёстка ===\n",
    "green_main = {i+1: pulp.LpVariable(f\"green_main_{i+1}\", lowBound=constraints[\"min_green_sec\"], upBound=signals_df.iloc[i][\"cycle_sec\"]-constraints[\"min_green_sec\"]-lost_time, cat='Integer') for i in range(NUM_INTERSECTIONS)}\n",
    "green_sec = {i+1: pulp.LpVariable(f\"green_sec_{i+1}\", lowBound=constraints[\"min_green_sec\"], upBound=signals_df.iloc[i][\"cycle_sec\"]-constraints[\"min_green_sec\"]-lost_time, cat='Integer') for i in range(NUM_INTERSECTIONS)}\n",
    "\n",
    "# === Ограничения по фазам ===\n",
    "for i in range(1, NUM_INTERSECTIONS+1):\n",
    "    cycle = signals_df.loc[signals_df['intersection_id'] == i, 'cycle_sec'].values[0]\n",
    "    model += green_main[i] + green_sec[i] + lost_time <= cycle\n",
    "    model += green_main[i] >= constraints['min_green_sec']\n",
    "    model += green_sec[i] >= constraints['min_green_sec']\n",
    "    model += green_main[i] >= constraints['pedestrian_green_sec']  # для главной\n",
    "\n",
    "# === Целевая функция (минимизация задержки) ===\n",
    "total_delay = []\n",
    "for inter_id in range(1, NUM_INTERSECTIONS+1):\n",
    "    cycle = signals_df.loc[signals_df['intersection_id'] == inter_id, 'cycle_sec'].values[0]\n",
    "    df = flows_df[flows_df[\"intersection_id\"] == inter_id]\n",
    "    for _, row in df.iterrows():\n",
    "        is_main = row[\"approach\"] in [\"N\", \"S\"]\n",
    "        flow = row[\"intensity_veh_per_hr\"]\n",
    "        bus_share = row[\"bus_share\"]\n",
    "        green = green_main[inter_id] if is_main else green_sec[inter_id]\n",
    "        weight = 1 + 2 * bus_share\n",
    "        total_delay.append((cycle - green) * flow * weight)\n",
    "\n",
    "model += pulp.lpSum(total_delay)\n",
    "\n",
    "# === Решение ===\n",
    "solver = pulp.PULP_CBC_CMD(msg=True)\n",
    "model.solve(solver)\n",
    "\n",
    "# === Вывод ===\n",
    "print(\"Status:\", pulp.LpStatus[model.status])\n",
    "for i in range(1, NUM_INTERSECTIONS+1):\n",
    "    print(f\"Перекрёсток {i}: Главная {green_main[i].varValue:.0f} сек, Второстепенная {green_sec[i].varValue:.0f} сек\")\n",
    "print(f\"Суммарная задержка: {pulp.value(model.objective):,.2f} машино-секунд\")\n"
   ]
  }
 ],
 "metadata": {
  "kernelspec": {
   "display_name": "base",
   "language": "python",
   "name": "python3"
  },
  "language_info": {
   "codemirror_mode": {
    "name": "ipython",
    "version": 3
   },
   "file_extension": ".py",
   "mimetype": "text/x-python",
   "name": "python",
   "nbconvert_exporter": "python",
   "pygments_lexer": "ipython3",
   "version": "3.12.7"
  }
 },
 "nbformat": 4,
 "nbformat_minor": 5
}
