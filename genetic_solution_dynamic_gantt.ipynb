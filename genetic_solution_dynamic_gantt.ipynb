{
 "cells": [
  {
   "cell_type": "code",
   "execution_count": 30,
   "id": "943d7945",
   "metadata": {},
   "outputs": [
    {
     "name": "stdout",
     "output_type": "stream",
     "text": [
      "Requirement already satisfied: deap in c:\\users\\borze\\anaconda3\\lib\\site-packages (1.4.3)\n",
      "Requirement already satisfied: pandas in c:\\users\\borze\\anaconda3\\lib\\site-packages (2.2.2)\n",
      "Requirement already satisfied: numpy in c:\\users\\borze\\anaconda3\\lib\\site-packages (1.26.4)\n",
      "Requirement already satisfied: python-dateutil>=2.8.2 in c:\\users\\borze\\anaconda3\\lib\\site-packages (from pandas) (2.9.0.post0)\n",
      "Requirement already satisfied: pytz>=2020.1 in c:\\users\\borze\\anaconda3\\lib\\site-packages (from pandas) (2024.1)\n",
      "Requirement already satisfied: tzdata>=2022.7 in c:\\users\\borze\\anaconda3\\lib\\site-packages (from pandas) (2023.3)\n",
      "Requirement already satisfied: six>=1.5 in c:\\users\\borze\\anaconda3\\lib\\site-packages (from python-dateutil>=2.8.2->pandas) (1.16.0)\n"
     ]
    }
   ],
   "source": [
    "!pip install deap pandas numpy"
   ]
  },
  {
   "cell_type": "code",
   "execution_count": 31,
   "id": "fb9cb044",
   "metadata": {},
   "outputs": [],
   "source": [
    "import random\n",
    "import numpy as np\n",
    "import pandas as pd\n",
    "from deap import base, creator, tools, algorithms\n",
    "import json"
   ]
  },
  {
   "cell_type": "code",
   "execution_count": 32,
   "id": "8e75e8b4",
   "metadata": {},
   "outputs": [],
   "source": [
    "flows = pd.read_csv(\"flows_peak.csv\")\n",
    "with open(\"constraints.json\") as f:\n",
    "    constraints = json.load(f)"
   ]
  },
  {
   "cell_type": "code",
   "execution_count": 33,
   "id": "0642cce6",
   "metadata": {},
   "outputs": [],
   "source": [
    "# === Настройки ===\n",
    "NUM_INTERSECTIONS = 3\n",
    "TRAVEL_TIME = 30  # секунд между перекрёстками\n",
    "CYCLE_FIXED = 120\n",
    "GENE_SIZE = 3  # green_main, green_sec, offset\n",
    "CHROMOSOME_SIZE = NUM_INTERSECTIONS * GENE_SIZE"
   ]
  },
  {
   "cell_type": "code",
   "execution_count": 34,
   "id": "dbaa8edd",
   "metadata": {},
   "outputs": [],
   "source": [
    "# === Целевая функция с весом задержки от bus_share ===\n",
    "def fitness(individual):\n",
    "    total_delay = 0\n",
    "\n",
    "    for i in range(NUM_INTERSECTIONS):\n",
    "        idx = i * GENE_SIZE\n",
    "        green_main = individual[idx]\n",
    "        green_sec = individual[idx + 1]\n",
    "        offset = individual[idx + 2]\n",
    "\n",
    "        inter_id = i + 1\n",
    "        int_flows = flows[flows['intersection_id'] == inter_id]\n",
    "\n",
    "        for _, row in int_flows.iterrows():\n",
    "            is_main = row['approach'] in ['N', 'S']\n",
    "            flow = row['intensity_veh_per_hr']\n",
    "            bus_share = row['bus_share']\n",
    "            green = green_main if is_main else green_sec\n",
    "\n",
    "            # Безусловный приоритет автобусам (по всем направлениям)\n",
    "            bus_bonus = constraints[\"min_extra_green_sec\"]\n",
    "            effective_green = min(CYCLE_FIXED, green + bus_bonus)\n",
    "\n",
    "            # Весовая задержка: больший вес — если много автобусов\n",
    "            weight = 1 + 2 * bus_share\n",
    "            delay = (CYCLE_FIXED - effective_green) * flow * weight\n",
    "\n",
    "            total_delay += delay\n",
    "\n",
    "    # Пенальти за рассинхрон offset (зелёная волна)\n",
    "    offset_penalty = 0\n",
    "    for i in range(1, NUM_INTERSECTIONS):\n",
    "        prev = individual[(i - 1) * GENE_SIZE + 2]\n",
    "        curr = individual[i * GENE_SIZE + 2]\n",
    "        expected = prev + TRAVEL_TIME\n",
    "        offset_penalty += abs(curr - expected)\n",
    "\n",
    "    return total_delay + 1000 * offset_penalty,\n"
   ]
  },
  {
   "cell_type": "code",
   "execution_count": 35,
   "id": "1d621e3b",
   "metadata": {},
   "outputs": [],
   "source": [
    "# === Проверка ограничений ===\n",
    "def check_constraints(ind):\n",
    "    for i in range(NUM_INTERSECTIONS):\n",
    "        idx = i * GENE_SIZE\n",
    "        g1, g2, o = ind[idx:idx+3]\n",
    "        lost = 2 * constraints[\"lost_time_sec_per_phase\"]\n",
    "\n",
    "        if g1 < constraints[\"pedestrian_green_sec\"] or g2 < constraints[\"pedestrian_green_sec\"]:\n",
    "            return False\n",
    "        if g1 + g2 + lost > CYCLE_FIXED:\n",
    "            return False\n",
    "        if not (0 <= o <= CYCLE_FIXED):\n",
    "            return False\n",
    "    return True\n"
   ]
  },
  {
   "cell_type": "code",
   "execution_count": 36,
   "id": "55efe587",
   "metadata": {},
   "outputs": [
    {
     "name": "stderr",
     "output_type": "stream",
     "text": [
      "c:\\Users\\borze\\anaconda3\\Lib\\site-packages\\deap\\creator.py:185: RuntimeWarning: A class named 'FitnessMin' has already been created and it will be overwritten. Consider deleting previous creation of that class or rename it.\n",
      "  warnings.warn(\"A class named '{0}' has already been created and it \"\n",
      "c:\\Users\\borze\\anaconda3\\Lib\\site-packages\\deap\\creator.py:185: RuntimeWarning: A class named 'Individual' has already been created and it will be overwritten. Consider deleting previous creation of that class or rename it.\n",
      "  warnings.warn(\"A class named '{0}' has already been created and it \"\n"
     ]
    }
   ],
   "source": [
    "# === Инициализация GA ===\n",
    "creator.create(\"FitnessMin\", base.Fitness, weights=(-1.0,))\n",
    "creator.create(\"Individual\", list, fitness=creator.FitnessMin)\n",
    "\n",
    "toolbox = base.Toolbox()"
   ]
  },
  {
   "cell_type": "code",
   "execution_count": 37,
   "id": "7f19fb76",
   "metadata": {},
   "outputs": [],
   "source": [
    "def random_signal_fixed_cycle():\n",
    "    g1 = random.randint(constraints['min_green_sec'], 60)\n",
    "    g2 = random.randint(constraints['min_green_sec'], 60)\n",
    "    lost = 2 * constraints[\"lost_time_sec_per_phase\"]\n",
    "    while g1 + g2 + lost > CYCLE_FIXED:\n",
    "        g1 -= 1\n",
    "    offset = random.randint(0, CYCLE_FIXED)\n",
    "    return [g1, g2, offset]\n",
    "toolbox.register(\"individual\", tools.initIterate, creator.Individual, \n",
    "                 lambda: sum([random_signal_fixed_cycle() for _ in range(NUM_INTERSECTIONS)], []))\n",
    "toolbox.register(\"population\", tools.initRepeat, list, toolbox.individual)\n",
    "\n",
    "toolbox.register(\"evaluate\", fitness)\n",
    "toolbox.register(\"mate\", tools.cxBlend, alpha=0.4)\n",
    "toolbox.register(\"mutate\", tools.mutGaussian, mu=0, sigma=5, indpb=0.2)\n",
    "toolbox.register(\"select\", tools.selTournament, tournsize=3)"
   ]
  },
  {
   "cell_type": "code",
   "execution_count": 38,
   "id": "55eeddec",
   "metadata": {},
   "outputs": [],
   "source": [
    "def feasible(ind):\n",
    "    return check_constraints(ind)\n",
    "\n",
    "toolbox.decorate(\"evaluate\", tools.DeltaPenalty(feasible, 1e6))"
   ]
  },
  {
   "cell_type": "code",
   "execution_count": 39,
   "id": "b5e74b01",
   "metadata": {},
   "outputs": [],
   "source": [
    "import json\n",
    "\n",
    "def run_ga():\n",
    "    pop = toolbox.population(n=100)\n",
    "    hof = tools.HallOfFame(1)\n",
    "\n",
    "    stats = tools.Statistics(lambda ind: ind.fitness.values)\n",
    "    stats.register(\"avg\", np.mean)\n",
    "    stats.register(\"min\", np.min)\n",
    "\n",
    "    algorithms.eaSimple(pop, toolbox, cxpb=0.7, mutpb=0.2, ngen=50, \n",
    "                        stats=stats, halloffame=hof, verbose=True)\n",
    "\n",
    "    best = hof[0]\n",
    "\n",
    "    # 💾 Сохраняем best в файл\n",
    "    with open(\"best_solution.json\", \"w\") as f:\n",
    "        json.dump(best, f)\n",
    "\n",
    "    print(\"\\n=== ЛУЧШЕЕ РЕШЕНИЕ (ЦИКЛ 120 СЕК) ===\")\n",
    "    for i in range(NUM_INTERSECTIONS):\n",
    "        idx = i * GENE_SIZE\n",
    "        g1, g2, o = best[idx:idx+3]\n",
    "        print(f\"Перекрёсток {i+1}: цикл=120, главная={g1:.0f}, второстепенная={g2:.0f}, offset={o:.0f}\")\n",
    "    print(\"Оценка:\", fitness(best)[0])\n"
   ]
  },
  {
   "cell_type": "code",
   "execution_count": 40,
   "id": "89fbb480",
   "metadata": {},
   "outputs": [
    {
     "name": "stdout",
     "output_type": "stream",
     "text": [
      "gen\tnevals\tavg   \tmin   \n",
      "0  \t100   \t838322\t647988\n",
      "1  \t74    \t819600\t647988\n",
      "2  \t86    \t786363\t635957\n",
      "3  \t75    \t764386\t635957\n",
      "4  \t87    \t720421\t625635\n",
      "5  \t75    \t698933\t593691\n",
      "6  \t73    \t669406\t591146\n",
      "7  \t76    \t659485\t577080\n",
      "8  \t69    \t633160\t571861\n",
      "9  \t77    \t634939\t560002\n",
      "10 \t78    \t649932\t550041\n",
      "11 \t75    \t652750\t550041\n",
      "12 \t83    \t637081\t548774\n",
      "13 \t76    \t645252\t549737\n",
      "14 \t66    \t619196\t539844\n",
      "15 \t68    \t618487\t539844\n",
      "16 \t72    \t627785\t535731\n",
      "17 \t72    \t648506\t536421\n",
      "18 \t67    \t629140\t535400\n",
      "19 \t84    \t636767\t534499\n",
      "20 \t74    \t624319\t529725\n",
      "21 \t74    \t631291\t529725\n",
      "22 \t63    \t596573\t526265\n",
      "23 \t72    \t644984\t523851\n",
      "24 \t80    \t650095\t519291\n",
      "25 \t81    \t637819\t512827\n",
      "26 \t74    \t663536\t511642\n",
      "27 \t71    \t618571\t511458\n",
      "28 \t82    \t615638\t510010\n",
      "29 \t80    \t587452\t510276\n",
      "30 \t79    \t580994\t510276\n",
      "31 \t78    \t588319\t506947\n",
      "32 \t76    \t567492\t504301\n",
      "33 \t74    \t576046\t502727\n",
      "34 \t74    \t602548\t502205\n",
      "35 \t80    \t578721\t502205\n",
      "36 \t86    \t557097\t502144\n",
      "37 \t78    \t550591\t499986\n",
      "38 \t77    \t529412\t499772\n",
      "39 \t79    \t563139\t499664\n",
      "40 \t61    \t522732\t498065\n",
      "41 \t69    \t541700\t497460\n",
      "42 \t72    \t545539\t497460\n",
      "43 \t75    \t575488\t497439\n",
      "44 \t63    \t579456\t497281\n",
      "45 \t80    \t579896\t496436\n",
      "46 \t70    \t568798\t496679\n",
      "47 \t81    \t583110\t496223\n",
      "48 \t84    \t583413\t495986\n",
      "49 \t86    \t578455\t495524\n",
      "50 \t67    \t552626\t495606\n",
      "\n",
      "=== ЛУЧШЕЕ РЕШЕНИЕ (ЦИКЛ 120 СЕК) ===\n",
      "Перекрёсток 1: цикл=120, главная=63, второстепенная=49, offset=24\n",
      "Перекрёсток 2: цикл=120, главная=86, второстепенная=26, offset=54\n",
      "Перекрёсток 3: цикл=120, главная=67, второстепенная=45, offset=84\n",
      "Оценка: 495523.9688199315\n"
     ]
    }
   ],
   "source": [
    "if __name__ == \"__main__\":\n",
    "    run_ga()"
   ]
  },
  {
   "cell_type": "code",
   "execution_count": 41,
   "id": "a7233a01",
   "metadata": {},
   "outputs": [],
   "source": [
    "# === Входные данные ===\n",
    "flows = pd.read_csv(\"flows_peak.csv\")\n",
    "signals = pd.read_csv(\"signals_current.csv\")\n",
    "\n",
    "with open(\"constraints.json\") as f:\n",
    "    constraints = json.load(f)\n",
    "\n",
    "total_delay = 0\n"
   ]
  },
  {
   "cell_type": "code",
   "execution_count": 42,
   "id": "d22cad1e",
   "metadata": {},
   "outputs": [
    {
     "name": "stdout",
     "output_type": "stream",
     "text": [
      "💡 Общая задержка ДО оптимизации: 690500.00\n"
     ]
    }
   ],
   "source": [
    "for _, row in flows.iterrows():\n",
    "    inter_id = row['intersection_id']\n",
    "    approach = row['approach']\n",
    "    flow = row['intensity_veh_per_hr']\n",
    "    bus_share = row['bus_share']\n",
    "\n",
    "    sig = signals[signals['intersection_id'] == inter_id].iloc[0]\n",
    "\n",
    "    cycle = sig['cycle_sec']\n",
    "    green_main = sig['green_main_sec']\n",
    "    green_sec = sig['green_secondary_sec']\n",
    "\n",
    "    # Направление\n",
    "    is_main = approach in ['N', 'S']\n",
    "    green = green_main if is_main else green_sec\n",
    "\n",
    "    # Приоритет автобусов\n",
    "    bus_bonus = constraints[\"min_extra_green_sec\"]\n",
    "    effective_green = min(cycle, green + bus_bonus)\n",
    "\n",
    "    delay = (cycle - effective_green) * flow\n",
    "    total_delay += delay\n",
    "\n",
    "print(f\"💡 Общая задержка ДО оптимизации: {total_delay:.2f}\")\n"
   ]
  },
  {
   "cell_type": "code",
   "execution_count": 43,
   "id": "85e1d16b",
   "metadata": {},
   "outputs": [
    {
     "data": {
      "image/png": "[encoded data removed]",
      "text/plain": [
       "<Figure size 1000x400 with 1 Axes>"
      ]
     },
     "metadata": {},
     "output_type": "display_data"
    },
    {
     "name": "stdout",
     "output_type": "stream",
     "text": [
      "💡 Общая задержка по автобусным потокам: 23403.28 машино-секунд\n"
     ]
    }
   ],
   "source": [
    "import json\n",
    "import matplotlib.pyplot as plt\n",
    "\n",
    "# Загрузка лучшего решения из файла\n",
    "with open(\"best_solution.json\", \"r\") as f:\n",
    "    best = json.load(f)\n",
    "\n",
    "signal_plan = {}\n",
    "for i in range(NUM_INTERSECTIONS):\n",
    "    idx = i * 3\n",
    "    inter_id = i + 1\n",
    "    signal_plan[inter_id] = {\n",
    "        \"cycle\": 120,\n",
    "        \"main\": best[idx],\n",
    "        \"sec\": best[idx + 1],\n",
    "        \"offset\": best[idx + 2]\n",
    "    }\n",
    "\n",
    "# flows_peak.csv — данные о потоках\n",
    "flows = pd.read_csv(\"flows_peak.csv\")\n",
    "\n",
    "# Вычисление задержки только по автобусным потокам\n",
    "bus_delay_total = 0\n",
    "for inter_id, plan in signal_plan.items():\n",
    "    flows_inter = flows[flows[\"intersection_id\"] == inter_id]\n",
    "    for _, row in flows_inter.iterrows():\n",
    "        is_main = row[\"approach\"] in [\"N\", \"S\"]\n",
    "        flow = row[\"intensity_veh_per_hr\"]\n",
    "        bus_share = row[\"bus_share\"]\n",
    "        flow_bus = flow * bus_share\n",
    "        green = plan[\"main\"] if is_main else plan[\"sec\"]\n",
    "        bonus = 5  # min_extra_green_sec\n",
    "        eff_green = min(plan[\"cycle\"], green + bonus)\n",
    "        delay = (plan[\"cycle\"] - eff_green) * flow_bus\n",
    "        bus_delay_total += delay\n",
    "\n",
    "# Построение Gantt-графика\n",
    "fig, ax = plt.subplots(figsize=(10, 4))\n",
    "colors = {\"main\": \"green\", \"sec\": \"orange\"}\n",
    "\n",
    "for i, (inter_id, plan) in enumerate(signal_plan.items(), start=1):\n",
    "    y_main = i * 2\n",
    "    y_sec = i * 2 - 0.6\n",
    "    ax.broken_barh([(plan[\"offset\"], plan[\"main\"])], (y_main, 0.5), facecolors=colors[\"main\"])\n",
    "    offset_sec = (plan[\"offset\"] + plan[\"main\"] + 4) % plan[\"cycle\"]\n",
    "    ax.broken_barh([(offset_sec, plan[\"sec\"])], (y_sec, 0.5), facecolors=colors[\"sec\"])\n",
    "    ax.text(0, y_main + 0.25, f\"Перекрёсток {inter_id}\", va=\"center\")\n",
    "\n",
    "ax.set_yticks([])\n",
    "ax.set_xlim(0, 130)\n",
    "ax.set_xlabel(\"Время (секунды)\")\n",
    "ax.set_title(\"Gantt-график фаз светофора\")\n",
    "ax.grid(True, axis='x', linestyle='--', alpha=0.5)\n",
    "\n",
    "plt.tight_layout()\n",
    "plt.show()\n",
    "\n",
    "print(f\"💡 Общая задержка по автобусным потокам: {bus_delay_total:.2f} машино-секунд\")\n"
   ]
  },
  {
   "cell_type": "markdown",
   "id": "b9f3beb9",
   "metadata": {},
   "source": []
  }
 ],
 "metadata": {
  "kernelspec": {
   "display_name": "base",
   "language": "python",
   "name": "python3"
  },
  "language_info": {
   "codemirror_mode": {
    "name": "ipython",
    "version": 3
   },
   "file_extension": ".py",
   "mimetype": "text/x-python",
   "name": "python",
   "nbconvert_exporter": "python",
   "pygments_lexer": "ipython3",
   "version": "3.12.7"
  }
 },
 "nbformat": 4,
 "nbformat_minor": 5
}
